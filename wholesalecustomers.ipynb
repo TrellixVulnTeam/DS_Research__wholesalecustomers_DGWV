{
 "metadata": {
  "language_info": {
   "codemirror_mode": {
    "name": "ipython",
    "version": 3
   },
   "file_extension": ".py",
   "mimetype": "text/x-python",
   "name": "python",
   "nbconvert_exporter": "python",
   "pygments_lexer": "ipython3",
   "version": "3.8.3-final"
  },
  "orig_nbformat": 2,
  "kernelspec": {
   "name": "python3",
   "display_name": "Python 3"
  }
 },
 "nbformat": 4,
 "nbformat_minor": 2,
 "cells": [
  {
   "cell_type": "code",
   "execution_count": 17,
   "metadata": {},
   "outputs": [],
   "source": [
    "import numpy as np \n",
    "import pandas as pd \n",
    "import seaborn as sns \n",
    "import matplotlib.pyplot as plt \n",
    "from scipy import stats"
   ]
  },
  {
   "cell_type": "code",
   "execution_count": 18,
   "metadata": {},
   "outputs": [],
   "source": [
    "#load data \n",
    "\n",
    "wholesalecustomers = pd.read_csv ('data/wholesalecustomers.csv')\n"
   ]
  },
  {
   "cell_type": "code",
   "execution_count": 19,
   "metadata": {},
   "outputs": [
    {
     "output_type": "stream",
     "name": "stdout",
     "text": [
      "<class 'pandas.core.frame.DataFrame'>\nRangeIndex: 440 entries, 0 to 439\nData columns (total 8 columns):\n #   Column            Non-Null Count  Dtype\n---  ------            --------------  -----\n 0   Channel           440 non-null    int64\n 1   Region            440 non-null    int64\n 2   Fresh             440 non-null    int64\n 3   Milk              440 non-null    int64\n 4   Grocery           440 non-null    int64\n 5   Frozen            440 non-null    int64\n 6   Detergents_Paper  440 non-null    int64\n 7   Delicassen        440 non-null    int64\ndtypes: int64(8)\nmemory usage: 27.6 KB\n"
     ]
    }
   ],
   "source": [
    "#Explore data \n",
    "\n",
    "wholesalecustomers.info()"
   ]
  },
  {
   "cell_type": "code",
   "execution_count": 20,
   "metadata": {},
   "outputs": [
    {
     "output_type": "execute_result",
     "data": {
      "text/plain": [
       "(440, 8)"
      ]
     },
     "metadata": {},
     "execution_count": 20
    }
   ],
   "source": [
    "wholesalecustomers.shape\n"
   ]
  },
  {
   "cell_type": "code",
   "execution_count": 23,
   "metadata": {},
   "outputs": [
    {
     "output_type": "execute_result",
     "data": {
      "text/plain": [
       "Channel             0\n",
       "Region              0\n",
       "Fresh               0\n",
       "Milk                0\n",
       "Grocery             0\n",
       "Frozen              0\n",
       "Detergents_Paper    0\n",
       "Delicassen          0\n",
       "dtype: int64"
      ]
     },
     "metadata": {},
     "execution_count": 23
    }
   ],
   "source": [
    "#check if there is missing values \n",
    "wholesalecustomers.isnull().sum()"
   ]
  },
  {
   "cell_type": "code",
   "execution_count": 24,
   "metadata": {},
   "outputs": [],
   "source": [
    "#change channel  and region into factors \n",
    "wholesalecustomers['Channel']= wholesalecustomers['Channel'].astype('category')\n",
    "wholesalecustomers['Region']= wholesalecustomers['Region'].astype('category')"
   ]
  },
  {
   "cell_type": "code",
   "execution_count": 26,
   "metadata": {},
   "outputs": [],
   "source": [
    "#change the channel 1 and 2 into Horeca and Retail\n",
    "#change the region 1,2 and 3 into lisbon, porto and  other region\n",
    "\n",
    "wholesalecustomers ['Channel']= wholesalecustomers['Channel'].map ({1:'Horeca', 2: 'Retail'})\n",
    "wholesalecustomers ['Region'].replace ([1,2,3],['Lisbon', 'Porto', 'Other_Region'], inplace=True)"
   ]
  },
  {
   "cell_type": "code",
   "execution_count": null,
   "metadata": {},
   "outputs": [],
   "source": [
    "wholesalecustomers.head()"
   ]
  },
  {
   "cell_type": "code",
   "execution_count": null,
   "metadata": {},
   "outputs": [],
   "source": [
    "wholesalecustomers.tail()"
   ]
  }
 ]
}