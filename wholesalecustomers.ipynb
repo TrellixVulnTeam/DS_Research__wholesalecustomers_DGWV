{
 "metadata": {
  "language_info": {
   "codemirror_mode": {
    "name": "ipython",
    "version": 3
   },
   "file_extension": ".py",
   "mimetype": "text/x-python",
   "name": "python",
   "nbconvert_exporter": "python",
   "pygments_lexer": "ipython3",
   "version": "3.8.3-final"
  },
  "orig_nbformat": 2,
  "kernelspec": {
   "name": "python3",
   "display_name": "Python 3"
  }
 },
 "nbformat": 4,
 "nbformat_minor": 2,
 "cells": [
  {
   "cell_type": "code",
<<<<<<< HEAD
   "execution_count": null,
   "metadata": {},
   "outputs": [],
   "source": [
    "#import libraries \n",
    "import numpy as np\n",
    "import pandas as pd \n",
    "import seaborn as sns \n",
    "import matplotlib.pyplot as plt \n",
    "from scipy import stats "
=======
   "execution_count": 17,
   "metadata": {},
   "outputs": [],
   "source": [
    "import numpy as np \n",
    "import pandas as pd \n",
    "import seaborn as sns \n",
    "import matplotlib.pyplot as plt \n",
    "from scipy import stats"
>>>>>>> 58647e3c5e23eeda9b4adbc16b482ebfcb17320c
   ]
  },
  {
   "cell_type": "code",
<<<<<<< HEAD
   "execution_count": null,
   "metadata": {},
   "outputs": [],
   "source": [
=======
   "execution_count": 18,
   "metadata": {},
   "outputs": [],
   "source": [
    "#load data \n",
    "\n",
>>>>>>> 58647e3c5e23eeda9b4adbc16b482ebfcb17320c
    "wholesalecustomers = pd.read_csv ('data/wholesalecustomers.csv')\n"
   ]
  },
  {
   "cell_type": "code",
<<<<<<< HEAD
   "execution_count": null,
   "metadata": {},
   "outputs": [],
   "source": [
    "#%% #change channel and region into category \n",
    "\n",
    "wholesalecustomers['Channel'] = wholesalecustomers['Channel'].astype('category')\n",
    "wholesalecustomers['Region'] = wholesalecustomers['Region'].astype('category')"
=======
   "execution_count": 19,
   "metadata": {},
   "outputs": [
    {
     "output_type": "stream",
     "name": "stdout",
     "text": [
      "<class 'pandas.core.frame.DataFrame'>\nRangeIndex: 440 entries, 0 to 439\nData columns (total 8 columns):\n #   Column            Non-Null Count  Dtype\n---  ------            --------------  -----\n 0   Channel           440 non-null    int64\n 1   Region            440 non-null    int64\n 2   Fresh             440 non-null    int64\n 3   Milk              440 non-null    int64\n 4   Grocery           440 non-null    int64\n 5   Frozen            440 non-null    int64\n 6   Detergents_Paper  440 non-null    int64\n 7   Delicassen        440 non-null    int64\ndtypes: int64(8)\nmemory usage: 27.6 KB\n"
     ]
    }
   ],
   "source": [
    "#Explore data \n",
    "\n",
    "wholesalecustomers.info()"
>>>>>>> 58647e3c5e23eeda9b4adbc16b482ebfcb17320c
   ]
  },
  {
   "cell_type": "code",
<<<<<<< HEAD
   "execution_count": null,
   "metadata": {},
   "outputs": [],
   "source": [
    "#change the Channel 1 and 2 into Horeca and Retail \n",
    "#Change the Region 1,2 and 3 into Lisbon,Porto and Other Region \n",
    "wholesalecustomers['Channel'] = wholesalecustomers['Channel'].map({1:'Horeca', 2:'Retail'})\n",
    "wholesalecustomers['Region'].replace([1,2,3],['Lisbon','Porto','other_Region'],inplace=True)"
=======
   "execution_count": 20,
   "metadata": {},
   "outputs": [
    {
     "output_type": "execute_result",
     "data": {
      "text/plain": [
       "(440, 8)"
      ]
     },
     "metadata": {},
     "execution_count": 20
    }
   ],
   "source": [
    "wholesalecustomers.shape\n"
>>>>>>> 58647e3c5e23eeda9b4adbc16b482ebfcb17320c
   ]
  },
  {
   "cell_type": "code",
<<<<<<< HEAD
   "execution_count": null,
   "metadata": {},
   "outputs": [],
   "source": [
    " #count Channel and Region members \n",
    "wholesalecustomers [\"Channel\"].value_counts()\n",
    "wholesalecustomers [\"Region\"].value_counts()"
=======
   "execution_count": 23,
   "metadata": {},
   "outputs": [
    {
     "output_type": "execute_result",
     "data": {
      "text/plain": [
       "Channel             0\n",
       "Region              0\n",
       "Fresh               0\n",
       "Milk                0\n",
       "Grocery             0\n",
       "Frozen              0\n",
       "Detergents_Paper    0\n",
       "Delicassen          0\n",
       "dtype: int64"
      ]
     },
     "metadata": {},
     "execution_count": 23
    }
   ],
   "source": [
    "#check if there is missing values \n",
    "wholesalecustomers.isnull().sum()"
   ]
  },
  {
   "cell_type": "code",
   "execution_count": 24,
   "metadata": {},
   "outputs": [],
   "source": [
    "#change channel  and region into factors \n",
    "wholesalecustomers['Channel']= wholesalecustomers['Channel'].astype('category')\n",
    "wholesalecustomers['Region']= wholesalecustomers['Region'].astype('category')"
>>>>>>> 58647e3c5e23eeda9b4adbc16b482ebfcb17320c
   ]
  },
  {
   "cell_type": "code",
<<<<<<< HEAD
   "execution_count": null,
   "metadata": {},
   "outputs": [],
   "source": [
    "wholesalecustomers.info"
=======
   "execution_count": 26,
   "metadata": {},
   "outputs": [],
   "source": [
    "#change the channel 1 and 2 into Horeca and Retail\n",
    "#change the region 1,2 and 3 into lisbon, porto and  other region\n",
    "\n",
    "wholesalecustomers ['Channel']= wholesalecustomers['Channel'].map ({1:'Horeca', 2: 'Retail'})\n",
    "wholesalecustomers ['Region'].replace ([1,2,3],['Lisbon', 'Porto', 'Other_Region'], inplace=True)"
>>>>>>> 58647e3c5e23eeda9b4adbc16b482ebfcb17320c
   ]
  },
  {
   "cell_type": "code",
   "execution_count": null,
   "metadata": {},
   "outputs": [],
   "source": [
<<<<<<< HEAD
    "wholesalecustomers.shape"
=======
    "wholesalecustomers.head()"
>>>>>>> 58647e3c5e23eeda9b4adbc16b482ebfcb17320c
   ]
  },
  {
   "cell_type": "code",
   "execution_count": null,
   "metadata": {},
   "outputs": [],
   "source": [
<<<<<<< HEAD
    "wholesalecustomers.columns"
=======
    "wholesalecustomers.tail()"
>>>>>>> 58647e3c5e23eeda9b4adbc16b482ebfcb17320c
   ]
  },
  {
   "cell_type": "code",
   "execution_count": null,
   "metadata": {},
   "outputs": [],
   "source": [
<<<<<<< HEAD
    "#%%\n",
    "#Check if there is any missing value \n",
=======
    "#check if there is missing values \n",
>>>>>>> 58647e3c5e23eeda9b4adbc16b482ebfcb17320c
    "wholesalecustomers.isnull().sum()"
   ]
  },
  {
   "cell_type": "code",
   "execution_count": null,
   "metadata": {},
   "outputs": [],
   "source": [
<<<<<<< HEAD
    "#Summarise Data \n",
=======
>>>>>>> 58647e3c5e23eeda9b4adbc16b482ebfcb17320c
    "wholesalecustomers.describe()"
   ]
  },
  {
   "cell_type": "code",
<<<<<<< HEAD
   "execution_count": null,
   "metadata": {},
   "outputs": [],
   "source": [
    "#Explore the first data row \n",
    "wholesalecustomers.head()"
=======
   "execution_count": 27,
   "metadata": {},
   "outputs": [
    {
     "output_type": "error",
     "ename": "NameError",
     "evalue": "name 'x' is not defined",
     "traceback": [
      "\u001b[0;31m---------------------------------------------------------------------------\u001b[0m",
      "\u001b[0;31mNameError\u001b[0m                                 Traceback (most recent call last)",
      "\u001b[0;32m<ipython-input-27-0920331bb92b>\u001b[0m in \u001b[0;36m<module>\u001b[0;34m\u001b[0m\n\u001b[1;32m      1\u001b[0m \u001b[0;31m#### **see the proportion of 2 channels  Horica and Retail in the Data:**\u001b[0m\u001b[0;34m\u001b[0m\u001b[0;34m\u001b[0m\u001b[0;34m\u001b[0m\u001b[0m\n\u001b[1;32m      2\u001b[0m \u001b[0;34m\u001b[0m\u001b[0m\n\u001b[0;32m----> 3\u001b[0;31m \u001b[0mplt\u001b[0m\u001b[0;34m.\u001b[0m\u001b[0mbar\u001b[0m\u001b[0;34m(\u001b[0m\u001b[0mx\u001b[0m\u001b[0;34m,\u001b[0m \u001b[0mheight\u001b[0m\u001b[0;34m,\u001b[0m \u001b[0mwidth\u001b[0m\u001b[0;34m=\u001b[0m\u001b[0;36m0.8\u001b[0m\u001b[0;34m,\u001b[0m \u001b[0mbottom\u001b[0m\u001b[0;34m=\u001b[0m\u001b[0;32mNone\u001b[0m\u001b[0;34m,\u001b[0m  \u001b[0malign\u001b[0m\u001b[0;34m=\u001b[0m\u001b[0;34m'center'\u001b[0m\u001b[0;34m)\u001b[0m\u001b[0;34m\u001b[0m\u001b[0;34m\u001b[0m\u001b[0m\n\u001b[0m",
      "\u001b[0;31mNameError\u001b[0m: name 'x' is not defined"
     ]
    }
   ],
   "source": [
    "\n",
    "#### **see the proportion of 2 channels  Horica and Retail in the Data:** \n",
    "\n",
    "plt.bar(x, height, width=0.8, bottom=None,  align='center')\n"
>>>>>>> 58647e3c5e23eeda9b4adbc16b482ebfcb17320c
   ]
  },
  {
   "cell_type": "code",
   "execution_count": null,
   "metadata": {},
   "outputs": [],
<<<<<<< HEAD
   "source": [
    "# %%\n",
    "#Explore the last data rows \n",
    "\n",
    "wholesalecustomers.tail()"
   ]
=======
   "source": []
>>>>>>> 58647e3c5e23eeda9b4adbc16b482ebfcb17320c
  },
  {
   "cell_type": "code",
   "execution_count": null,
   "metadata": {},
   "outputs": [],
   "source": []
  }
 ]
}